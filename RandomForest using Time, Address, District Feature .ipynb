{
 "cells": [
  {
   "cell_type": "code",
   "execution_count": 1,
   "metadata": {},
   "outputs": [],
   "source": [
    "from pyspark.ml import Pipeline\n",
    "from pyspark.ml.classification import RandomForestClassifier\n",
    "from pyspark.ml.feature import IndexToString, StringIndexer, VectorIndexer\n",
    "from pyspark.ml.evaluation import MulticlassClassificationEvaluator\n",
    "from pyspark.sql.types import *\n",
    "from pyspark.ml.feature import VectorAssembler"
   ]
  },
  {
   "cell_type": "code",
   "execution_count": 2,
   "metadata": {},
   "outputs": [],
   "source": [
    "crime_schema = StructType([StructField(\"IncidentName\",IntegerType(),True),\n",
    "                          StructField(\"Category\",StringType(),True),\n",
    "                          StructField(\"Descript\",StringType(),True),\n",
    "                          StructField(\"DayofWeek\",StringType(),True),\n",
    "                          StructField(\"Date\",StringType(),True),\n",
    "                          StructField(\"Time\",StringType(),True),\n",
    "                          StructField(\"PdDistrict\",StringType(),True),\n",
    "                          StructField(\"Resolution\",StringType(),True),\n",
    "                          StructField(\"Address\",StringType(),True),\n",
    "                          StructField(\"X\",DoubleType(),True),\n",
    "                          StructField(\"Y\",DoubleType(),True),\n",
    "                          StructField(\"Location\",StringType(),True),\n",
    "                          StructField(\"PdID\",StringType(),True)])"
   ]
  },
  {
   "cell_type": "code",
   "execution_count": 3,
   "metadata": {},
   "outputs": [
    {
     "data": {
      "text/plain": [
       "2215016"
      ]
     },
     "execution_count": 3,
     "metadata": {},
     "output_type": "execute_result"
    }
   ],
   "source": [
    "# Load and parse the data file, converting it to a DataFrame.\n",
    "crimeDF = spark.read.csv('s3a://crimedatafyp/crimeData/*.csv',header=True,schema=crime_schema)\n",
    "crimeDF.count()"
   ]
  },
  {
   "cell_type": "code",
   "execution_count": 4,
   "metadata": {},
   "outputs": [
    {
     "name": "stdout",
     "output_type": "stream",
     "text": [
      "root\n",
      " |-- Category: string (nullable = true)\n",
      " |-- DayofWeek: string (nullable = true)\n",
      " |-- Date: string (nullable = true)\n",
      " |-- Time: string (nullable = true)\n",
      " |-- PdDistrict: string (nullable = true)\n",
      " |-- Address: string (nullable = true)\n",
      "\n"
     ]
    }
   ],
   "source": [
    "dropList = [\"IncidentName\",\"Descript\",\"Resolution\",\"Location\",\"PdID\",\"X\",\"Y\"]\n",
    "crimeDF = crimeDF.select([column for column in crimeDF.columns if column not in dropList])\n",
    "crimeDF.printSchema()"
   ]
  },
  {
   "cell_type": "code",
   "execution_count": 5,
   "metadata": {},
   "outputs": [],
   "source": [
    "from pyspark.sql.functions import *\n",
    "crimeNewDF = crimeDF.withColumn('Year',year(unix_timestamp('Date', 'MM/dd/yyyy').cast(\"timestamp\")))\\\n",
    "                    .withColumn('Month',month(unix_timestamp('Date', 'MM/dd/yyyy').cast(\"timestamp\")))\\\n",
    "                    .withColumn('Day',dayofmonth(unix_timestamp('Date', 'MM/dd/yyyy').cast(\"timestamp\")))\\\n",
    "                    .withColumn('Hour',hour('Time'))"
   ]
  },
  {
   "cell_type": "code",
   "execution_count": 13,
   "metadata": {
    "scrolled": true
   },
   "outputs": [
    {
     "name": "stdout",
     "output_type": "stream",
     "text": [
      "root\n",
      " |-- Category: string (nullable = true)\n",
      " |-- DayofWeek: string (nullable = true)\n",
      " |-- PdDistrict: string (nullable = true)\n",
      " |-- Address: string (nullable = true)\n",
      " |-- Year: integer (nullable = true)\n",
      " |-- Month: integer (nullable = true)\n",
      " |-- Day: integer (nullable = true)\n",
      " |-- Hour: integer (nullable = true)\n",
      "\n"
     ]
    }
   ],
   "source": [
    "crimeNewDF=crimeNewDF.drop('Date').drop('Time').drop('X').drop('Y')\n",
    "crimeNewDF.printSchema()"
   ]
  },
  {
   "cell_type": "code",
   "execution_count": 7,
   "metadata": {},
   "outputs": [],
   "source": [
    "cat_cols = [item[0] for item in crimeNewDF.dtypes if item[1].startswith('string')] \n",
    "num_cols = [item[0] for item in crimeNewDF.dtypes if item[1].startswith('int') | item[1].startswith('double')][1:]"
   ]
  },
  {
   "cell_type": "code",
   "execution_count": 17,
   "metadata": {},
   "outputs": [],
   "source": [
    "crimeNewDF=crimeNewDF.filter(crimeNewDF.PdDistrict.isNotNull())"
   ]
  },
  {
   "cell_type": "code",
   "execution_count": 20,
   "metadata": {},
   "outputs": [
    {
     "name": "stdout",
     "output_type": "stream",
     "text": [
      "root\n",
      " |-- Category: string (nullable = true)\n",
      " |-- DayofWeek: string (nullable = true)\n",
      " |-- PdDistrict: string (nullable = true)\n",
      " |-- Address: string (nullable = true)\n",
      " |-- Year: integer (nullable = true)\n",
      " |-- Month: integer (nullable = true)\n",
      " |-- Day: integer (nullable = true)\n",
      " |-- Hour: integer (nullable = true)\n",
      " |-- DayofWeek_index: double (nullable = false)\n",
      " |-- PdDistrict_index: double (nullable = false)\n",
      " |-- Address_index: double (nullable = false)\n",
      " |-- label: double (nullable = false)\n",
      " |-- features: vector (nullable = true)\n",
      " |-- rawPrediction: vector (nullable = true)\n",
      " |-- probability: vector (nullable = true)\n",
      " |-- prediction: double (nullable = false)\n",
      " |-- predictedLabel: string (nullable = true)\n",
      "\n"
     ]
    }
   ],
   "source": [
    "from pyspark.ml import Pipeline\n",
    "from pyspark.ml.feature import StringIndexer,IndexToString,VectorAssembler,OneHotEncoderEstimator\n",
    "from pyspark.ml.linalg import Vectors\n",
    "from pyspark.ml.classification import RandomForestClassifier\n",
    "from pyspark.ml.evaluation import MulticlassClassificationEvaluator\n",
    "\n",
    "(trainingData,testData) = crimeNewDF.randomSplit([0.7,0.3],seed= 100)\n",
    "\n",
    "catIndexer = StringIndexer(inputCol=\"Category\",outputCol=\"label\",handleInvalid='keep').fit(trainingData)\n",
    "\n",
    "indexers = [StringIndexer(inputCol= column, outputCol=column+\"_index\").fit(crimeNewDF) for column in list(set(crimeNewDF.columns)-set(['Year','Month','Day','Hour','Category']))]\n",
    "\n",
    "#encoders = [OneHotEncoderEstimator(\n",
    " #   inputCols=[indexer.getOutputCol()],\n",
    "  #  outputCols=[indexer.getOutputCol()+\"_encoded\"]) for indexer in indexers]\n",
    "\n",
    "assemblerInputs = [column + \"_index\" for column in list(set(crimeNewDF.columns)-set(['Year','Month','Day','Hour','Category']))] + num_cols\n",
    "\n",
    "assembler = VectorAssembler(\n",
    "            inputCols=assemblerInputs,\n",
    "            outputCol=\"features\")\n",
    "\n",
    "rf =  RandomForestClassifier(labelCol=\"label\",featuresCol=\"features\",numTrees = 100, maxDepth=4,maxBins=25147)\n",
    "\n",
    "labelConverter = IndexToString(inputCol=\"prediction\",outputCol=\"predictedLabel\",labels=catIndexer.labels)\n",
    "\n",
    "pipeline = Pipeline(stages=indexers+[catIndexer,assembler,rf,labelConverter])#+encoders\n",
    "\n",
    "model = pipeline.fit(trainingData)\n",
    "\n",
    "predictions = model.transform(testData)\n",
    "\n",
    "predictions.printSchema()\n",
    "\n",
    "#predictions.select(\"predictedLabel\",\"Label\",\"features\").show(5)\n",
    "\n",
    "#evaluator = MulticlassClassificationEvaluator(\n",
    "#    labelCol=\"indexedLabel\", predictionCol=\"prediction\", metricName=\"accuracy\")\n",
    "#accuracy = evaluator.evaluate(predictions)"
   ]
  },
  {
   "cell_type": "code",
   "execution_count": 21,
   "metadata": {
    "scrolled": true
   },
   "outputs": [
    {
     "name": "stdout",
     "output_type": "stream",
     "text": [
      "+-----+--------------------+--------------------+\n",
      "|label|            features|         probability|\n",
      "+-----+--------------------+--------------------+\n",
      "| 27.0|[0.0,3.0,1779.0,1...|[0.22431707197869...|\n",
      "| 27.0|[0.0,5.0,4368.0,1...|[0.15760357952753...|\n",
      "| 27.0|[0.0,5.0,8286.0,7...|[0.19753874929348...|\n",
      "| 27.0|[0.0,9.0,8129.0,2...|[0.24945040887862...|\n",
      "| 27.0|[5.0,4.0,216.0,1....|[0.12697343302239...|\n",
      "+-----+--------------------+--------------------+\n",
      "only showing top 5 rows\n",
      "\n"
     ]
    }
   ],
   "source": [
    "predictions.select(\"label\",\"features\",\"probability\").show(5)"
   ]
  },
  {
   "cell_type": "code",
   "execution_count": 22,
   "metadata": {},
   "outputs": [],
   "source": [
    "model_predictions = predictions.select(['features','label','Category'])"
   ]
  },
  {
   "cell_type": "code",
   "execution_count": 23,
   "metadata": {
    "scrolled": false
   },
   "outputs": [],
   "source": [
    "evaluator = MulticlassClassificationEvaluator(\n",
    "    labelCol=\"label\", predictionCol=\"prediction\", metricName=\"accuracy\")\n",
    "accuracy = evaluator.evaluate(predictions)"
   ]
  },
  {
   "cell_type": "code",
   "execution_count": 24,
   "metadata": {},
   "outputs": [
    {
     "name": "stdout",
     "output_type": "stream",
     "text": [
      "0.233919951805\n"
     ]
    }
   ],
   "source": [
    "print(accuracy)"
   ]
  },
  {
   "cell_type": "code",
   "execution_count": 25,
   "metadata": {},
   "outputs": [],
   "source": [
    "from pyspark.ml.tuning import CrossValidator, ParamGridBuilder\n",
    "paramGrid = ParamGridBuilder()\\\n",
    "            .addGrid(rf.impurity,[\"entropy\",\"gini\"])\\\n",
    "            .build()\n",
    "        \n",
    "cv = CrossValidator(estimator = pipeline,\\\n",
    "                   estimatorParamMaps=paramGrid,\\\n",
    "                   evaluator=evaluator,\\\n",
    "                   numFolds=5)\n",
    "\n",
    "cvModel = cv.fit(trainingData)\n",
    "\n",
    "predictions = cvModel.transform(testData)\n"
   ]
  },
  {
   "cell_type": "code",
   "execution_count": 26,
   "metadata": {
    "scrolled": true
   },
   "outputs": [],
   "source": [
    "#check the importance of each feature\n",
    "importances = cvModel.bestModel.stages[5].featureImportances"
   ]
  },
  {
   "cell_type": "code",
   "execution_count": 27,
   "metadata": {},
   "outputs": [],
   "source": [
    "x_values = list(range(len(importances)))"
   ]
  },
  {
   "cell_type": "code",
   "execution_count": 44,
   "metadata": {},
   "outputs": [
    {
     "data": {
      "image/png": "[encoded data removed]",
      "text/plain": [
       "<Figure size 432x288 with 1 Axes>"
      ]
     },
     "metadata": {
      "needs_background": "light"
     },
     "output_type": "display_data"
    }
   ],
   "source": [
    "import matplotlib.pyplot as plt\n",
    "plt.bar(x_values, importances, orientation = 'vertical')\n",
    "plt.xticks(x_values, assemblerInputs, rotation=40)\n",
    "plt.ylabel('Importance')\n",
    "plt.xlabel(assemblerInputs)\n",
    "plt.title('Feature Importances')\n",
    "plt.show()"
   ]
  },
  {
   "cell_type": "code",
   "execution_count": 42,
   "metadata": {},
   "outputs": [
    {
     "name": "stdout",
     "output_type": "stream",
     "text": [
      "RandomForestClassifier:\n",
      "accuracy:0.220047441545\n",
      "precision:0.648130894105\n",
      "recall:0.94175710039\n"
     ]
    }
   ],
   "source": [
    "from pyspark.mllib.evaluation import MulticlassMetrics\n",
    "results = predictions.select(['prediction','label'])\n",
    "predictionAndLabels = results.rdd\n",
    "metrics = MulticlassMetrics(predictionAndLabels)\n",
    "\n",
    "cm=metrics.confusionMatrix().toArray()\n",
    "accuracy=(cm[0][0]+cm[1][1])/cm.sum()\n",
    "precision=(cm[0][0])/(cm[0][0]+cm[1][0])\n",
    "recall=(cm[0][0])/(cm[0][0]+cm[0][1])\n",
    "print(\"RandomForestClassifier:\\naccuracy:{}\\nprecision:{}\\nrecall:{}\".format(accuracy,precision,recall))"
   ]
  },
  {
   "cell_type": "code",
   "execution_count": 31,
   "metadata": {},
   "outputs": [
    {
     "name": "stdout",
     "output_type": "stream",
     "text": [
      "F1 Score: 0.767830027799 \n"
     ]
    }
   ],
   "source": [
    "FScore = 2*precision*recall/(precision+recall)\n",
    "print(\"F1 Score: {0} \".format(FScore))"
   ]
  },
  {
   "cell_type": "code",
   "execution_count": 30,
   "metadata": {},
   "outputs": [
    {
     "name": "stdout",
     "output_type": "stream",
     "text": [
      "Test Area Under ROC: 0.558499187874\n"
     ]
    }
   ],
   "source": [
    "from pyspark.ml.evaluation import BinaryClassificationEvaluator\n",
    "\n",
    "evaluator = BinaryClassificationEvaluator()\n",
    "print(\"Test Area Under ROC: \" + str(evaluator.evaluate(predictions, {evaluator.metricName: \"areaUnderROC\"})))"
   ]
  },
  {
   "cell_type": "code",
   "execution_count": null,
   "metadata": {},
   "outputs": [],
   "source": []
  }
 ],
 "metadata": {
  "kernelspec": {
   "display_name": "Python 2",
   "language": "python",
   "name": "python2"
  },
  "language_info": {
   "codemirror_mode": {
    "name": "ipython",
    "version": 2
   },
   "file_extension": ".py",
   "mimetype": "text/x-python",
   "name": "python",
   "nbconvert_exporter": "python",
   "pygments_lexer": "ipython2",
   "version": "2.7.16"
  }
 },
 "nbformat": 4,
 "nbformat_minor": 2
}
